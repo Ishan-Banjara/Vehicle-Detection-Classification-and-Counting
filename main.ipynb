{
 "cells": [
  {
   "cell_type": "code",
   "execution_count": 30,
   "id": "65e5b37f-caab-4fb7-86c5-0f2982edbed8",
   "metadata": {},
   "outputs": [],
   "source": [
    "import cv2\n",
    "import pandas as pd\n",
    "from ultralytics import YOLO\n",
    "from tracker import *"
   ]
  },
  {
   "cell_type": "code",
   "execution_count": 31,
   "id": "b960b81d-497a-4f11-82b0-cfd06a455b30",
   "metadata": {},
   "outputs": [],
   "source": [
    "video_dir = 'highway.mp4' #Or can integrate with real-time"
   ]
  },
  {
   "cell_type": "code",
   "execution_count": 32,
   "id": "8be68c37-5436-4f79-b6a8-39fed9b56fce",
   "metadata": {},
   "outputs": [],
   "source": [
    "class_list = ['person', 'bicycle', 'car', 'motorcycle', 'airplane', 'bus', 'train', 'truck', 'boat', 'traffic light', 'fire hydrant', 'stop sign', 'parking meter', 'bench', 'bird', 'cat', 'dog', 'horse', 'sheep', 'cow', 'elephant', 'bear', 'zebra', 'giraffe', 'backpack', 'umbrella', 'handbag', 'tie', 'suitcase', 'frisbee', 'skis', 'snowboard', 'sports ball', 'kite', 'baseball bat', 'baseball glove', 'skateboard', 'surfboard', 'tennis racket', 'bottle', 'wine glass', 'cup', 'fork', 'knife', 'spoon', 'bowl', 'banana', 'apple', 'sandwich', 'orange', 'broccoli', 'carrot', 'hot dog', 'pizza', 'donut', 'cake', 'chair', 'couch', 'potted plant', 'bed', 'dining table', 'toilet', 'tv', 'laptop', 'mouse', 'remote', 'keyboard', 'cell phone', 'microwave', 'oven', 'toaster', 'sink', 'refrigerator', 'book', 'clock', 'vase', 'scissors', 'teddy bear', 'hair drier', 'toothbrush']\n",
    "street_list = ['bicycle','car','motorcycle','bus','truck']"
   ]
  },
  {
   "cell_type": "code",
   "execution_count": 33,
   "id": "e8ee4dfa-628f-4afa-9bcf-76d98943a40c",
   "metadata": {},
   "outputs": [],
   "source": [
    "#Get tracker\n",
    "tracker = Tracker()\n",
    "count = 0\n",
    "#Get model\n",
    "model = YOLO('yolov9c.pt')"
   ]
  },
  {
   "cell_type": "code",
   "execution_count": 34,
   "id": "69cff728-4772-4ce2-92cc-a9e57ce69d1e",
   "metadata": {},
   "outputs": [
    {
     "name": "stdout",
     "output_type": "stream",
     "text": [
      "\n",
      "0: 320x640 11 cars, 3 trucks, 1941.9ms\n",
      "Speed: 5.0ms preprocess, 1941.9ms inference, 5.0ms postprocess per image at shape (1, 3, 320, 640)\n",
      "\n",
      "0: 320x640 10 cars, 4 trucks, 1802.0ms\n",
      "Speed: 5.0ms preprocess, 1802.0ms inference, 3.0ms postprocess per image at shape (1, 3, 320, 640)\n",
      "\n",
      "0: 320x640 9 cars, 4 trucks, 1939.9ms\n",
      "Speed: 3.0ms preprocess, 1939.9ms inference, 5.0ms postprocess per image at shape (1, 3, 320, 640)\n",
      "\n",
      "0: 320x640 9 cars, 4 trucks, 1808.0ms\n",
      "Speed: 4.0ms preprocess, 1808.0ms inference, 4.0ms postprocess per image at shape (1, 3, 320, 640)\n",
      "\n",
      "0: 320x640 9 cars, 4 trucks, 1835.0ms\n",
      "Speed: 5.0ms preprocess, 1835.0ms inference, 4.0ms postprocess per image at shape (1, 3, 320, 640)\n",
      "\n",
      "0: 320x640 9 cars, 3 trucks, 1855.9ms\n",
      "Speed: 4.0ms preprocess, 1855.9ms inference, 3.0ms postprocess per image at shape (1, 3, 320, 640)\n",
      "\n",
      "0: 320x640 8 cars, 4 trucks, 1887.9ms\n",
      "Speed: 4.0ms preprocess, 1887.9ms inference, 3.0ms postprocess per image at shape (1, 3, 320, 640)\n",
      "\n",
      "0: 320x640 8 cars, 4 trucks, 1847.9ms\n",
      "Speed: 4.0ms preprocess, 1847.9ms inference, 3.0ms postprocess per image at shape (1, 3, 320, 640)\n",
      "\n",
      "0: 320x640 8 cars, 4 trucks, 1767.0ms\n",
      "Speed: 6.0ms preprocess, 1767.0ms inference, 3.0ms postprocess per image at shape (1, 3, 320, 640)\n",
      "\n",
      "0: 320x640 8 cars, 4 trucks, 1681.0ms\n",
      "Speed: 6.0ms preprocess, 1681.0ms inference, 3.0ms postprocess per image at shape (1, 3, 320, 640)\n"
     ]
    }
   ],
   "source": [
    "#Empty dictionary that will hold ids based on direction\n",
    "down = {}\n",
    "up = {}\n",
    "#Empty dictionary to hold information about vehicle class\n",
    "counter_down = {'car':[],\n",
    "                'bicycle':[],\n",
    "                'truck':[],\n",
    "                'bus':[],\n"}\n",
    "counter_up = {  'car':[],\n",
    "                'bicycle':[],\n",
    "                'truck':[],\n",
    "                'bus':[],\n"}\n",
    "cap = cv2.VideoCapture(video_dir)\n",
    "#as long as the quir key is not presssed, run the program\n",
    "while True:\n",
    "    ret,frame = cap.read()\n",
    "    if not ret:\n",
    "        break\n",
    "    count += 1\n",
    "    frame = cv2.resize(frame,(1020,500))\n",
    "    #We have a pre-built model that will predict the objects from frame\n",
    "    results = model.predict(frame)\n",
    "    a = results[0].boxes.data\n",
    "    a = a.detach().cpu().numpy()\n",
    "    #Stored information regarding result in a dataframe called px\n",
    "    px = pd.DataFrame(a).astype('float')\n",
    "    list = []\n",
    "    for idx, row in px.iterrows():\n",
    "        x1 = int(row[0])\n",
    "        y1 = int(row[1])\n",
    "        x2 = int(row[2])\n",
    "        y2 = int(row[3])\n",
    "        d = int(row[5])\n",
    "        c = class_list[d]\n",
    "        if c in street_list:\n",
    "            #Only append list when vehicle in street_list is detected\n",
    "            list.append([x1,y1,x2,y2,c])\n",
    "    #Tracker returns object boundary box and id\n",
    "    bbox_id,c = tracker.update(list)\n",
    "    for bbox in bbox_id:\n",
    "        x3,y3,x4,y4,id = bbox\n",
    "        cx = int(x3+x4)//2\n",
    "        cy = int(y3+y4)//2\n",
    "        #Bring bounding box only after touching the line\n",
    "        y_red = 200\n",
    "        y_blue = 279\n",
    "        offset = 2\n",
    "        #So, draw the box only under the condition when it closes to or just leaves the line\n",
    "        if y_red<(cy+offset) and y_red>(cy-offset):\n",
    "            down[id] = cy\n",
    "        if id in down:\n",
    "            if y_blue<(cy+offset) and y_blue>(cy-offset):\n",
    "                #Puts circle in the center of vehicle\n",
    "                cv2.circle(frame,(cx,cy),4,(0,0,255),-1)\n",
    "                counter_down[c].append(id)\n",
    "        if y_blue<(cy+offset) and y_blue>(cy-offset):\n",
    "            up[id] = cy\n",
    "        if id in up:\n",
    "            if y_red<(cy+offset) and y_red>(cy-offset):\n",
    "                #Puts circle in the center of vehicle\n",
    "                cv2.circle(frame,(cx,cy),4,(0,0,255),-1)\n",
    "                counter_up[c].append(id)\n",
    "    cv2.line(frame,(0,y_red),(1020,y_red),(0,0,255),3)\n",
    "    cv2.line(frame,(0,y_blue),(1020,y_blue),(255,0,0),3)\n",
    "    cv2.putText(frame,('Going Down'),(10,30),cv2.FONT_HERSHEY_SIMPLEX,1,(0,255,255),2,cv2.LINE_AA)\n",
    "    cv2.putText(frame,('Bicycle- '+str(len(counter_down['bicycle']))),(10,60),cv2.FONT_HERSHEY_SIMPLEX,1,(0,255,255),2,cv2.LINE_AA)\n",
    "    cv2.putText(frame,('Car- '+str(len(counter_down['car']))),(10,90),cv2.FONT_HERSHEY_SIMPLEX,1,(0,255,255),2,cv2.LINE_AA)\n",
    "    cv2.putText(frame,('Bus- '+str(len(counter_down['bus']))),(10,120),cv2.FONT_HERSHEY_SIMPLEX,1,(0,255,255),2,cv2.LINE_AA)\n",
    "    cv2.putText(frame,('Truck- '+str(len(counter_down['truck']))),(10,150),cv2.FONT_HERSHEY_SIMPLEX,1,(0,255,255),2,cv2.LINE_AA)\n",
    "    cv2.putText(frame,('Going Up'),(800,30),cv2.FONT_HERSHEY_SIMPLEX,1,(0,255,255),2,cv2.LINE_AA)\n",
    "    cv2.putText(frame,('Bicycle- '+str(len(counter_up['bicycle']))),(800,60),cv2.FONT_HERSHEY_SIMPLEX,1,(0,255,255),2,cv2.LINE_AA)\n",
    "    cv2.putText(frame,('Car- '+str(len(counter_up['car']))),(800,90),cv2.FONT_HERSHEY_SIMPLEX,1,(0,255,255),2,cv2.LINE_AA)\n",
    "    cv2.putText(frame,('Bus- '+str(len(counter_up['bus']))),(800,120),cv2.FONT_HERSHEY_SIMPLEX,1,(0,255,255),2,cv2.LINE_AA)\n",
    "    cv2.putText(frame,('Truck- '+str(len(counter_up['truck']))),(800,150),cv2.FONT_HERSHEY_SIMPLEX,1,(0,255,255),2,cv2.LINE_AA)\n",
    "    #To see the output\n",
    "    cv2.imshow(\"frames\",frame)\n",
    "    #Escape button to exit\n",
    "    if cv2.waitKey(1)&0xFF==27:\n",
    "        break\n",
    "cap.release()\n",
    "cv2.destroyAllWindows()"
   ]
  },
  {
   "cell_type": "code",
   "execution_count": null,
   "id": "b174447b-a730-420d-a295-605b5d88645e",
   "metadata": {},
   "outputs": [],
   "source": []
  }
 ],
 "metadata": {
  "kernelspec": {
   "display_name": "venv",
   "language": "python",
   "name": "venv"
  },
  "language_info": {
   "codemirror_mode": {
    "name": "ipython",
    "version": 3
   },
   "file_extension": ".py",
   "mimetype": "text/x-python",
   "name": "python",
   "nbconvert_exporter": "python",
   "pygments_lexer": "ipython3",
   "version": "3.12.4"
  }
 },
 "nbformat": 4,
 "nbformat_minor": 5
}
